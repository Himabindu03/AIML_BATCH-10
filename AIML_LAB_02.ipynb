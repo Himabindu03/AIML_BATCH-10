{
  "nbformat": 4,
  "nbformat_minor": 0,
  "metadata": {
    "colab": {
      "provenance": [],
      "authorship_tag": "ABX9TyM8/I3V77efS7SjYU1K57Cp",
      "include_colab_link": true
    },
    "kernelspec": {
      "name": "python3",
      "display_name": "Python 3"
    },
    "language_info": {
      "name": "python"
    }
  },
  "cells": [
    {
      "cell_type": "markdown",
      "metadata": {
        "id": "view-in-github",
        "colab_type": "text"
      },
      "source": [
        "<a href=\"https://colab.research.google.com/github/Himabindu03/AIML_BATCH-10/blob/main/AIML_LAB_02.ipynb\" target=\"_parent\"><img src=\"https://colab.research.google.com/assets/colab-badge.svg\" alt=\"Open In Colab\"/></a>"
      ]
    },
    {
      "cell_type": "code",
      "source": [
        "import numpy as np\n",
        "from queue import Queue\n",
        "graph={0: [1,2,3], 1:[0,2], 2:[0,1,3,5],\n",
        "       3: [0,2,4], 4: [3,5,7], 5: [4,6,7], 6:[5,7], 7:[4,5,6],8:[]}\n",
        "print(\"the adjacency list representing the graph is:\")\n",
        "print(graph)"
      ],
      "metadata": {
        "colab": {
          "base_uri": "https://localhost:8080/"
        },
        "id": "B8ox4uKVb1W5",
        "outputId": "22d57448-7879-4735-af4e-2a31753506d7"
      },
      "execution_count": 4,
      "outputs": [
        {
          "output_type": "stream",
          "name": "stdout",
          "text": [
            "the adjacency list representing the graph is:\n",
            "{0: [1, 2, 3], 1: [0, 2], 2: [0, 1, 3, 5], 3: [0, 2, 4], 4: [3, 5, 7], 5: [4, 6, 7], 6: [5, 7], 7: [4, 5, 6], 8: []}\n"
          ]
        }
      ]
    },
    {
      "cell_type": "code",
      "source": [
        "def bfs(graph, source):\n",
        "   Q=Queue()\n",
        "   visited_vertices= set()\n",
        "   Q.put(source)\n",
        "   visited_vertices.update({source})\n",
        "   while not Q.empty():\n",
        "     vertex = Q.get()\n",
        "     print(vertex, end=\"-->\")\n",
        "     for u in graph[vertex]:\n",
        "         if u not in visited_vertices:\n",
        "              Q.put(u)\n",
        "              visited_vertices.update({u})\n",
        "print(\"BFS traversal of graph with source 0 is:\")\n",
        "bfs(graph,0)"
      ],
      "metadata": {
        "colab": {
          "base_uri": "https://localhost:8080/"
        },
        "id": "YZ8nOZMgf0kP",
        "outputId": "4e453fda-206d-4f4a-a614-18f1346eb994"
      },
      "execution_count": 5,
      "outputs": [
        {
          "output_type": "stream",
          "name": "stdout",
          "text": [
            "BFS traversal of graph with source 0 is:\n",
            "0-->1-->2-->3-->5-->4-->6-->7-->"
          ]
        }
      ]
    },
    {
      "cell_type": "markdown",
      "source": [
        "part-02:Implement Depth First Search Algorithm\n",
        "\n",
        "![dfs.png](attachment:dfs.png)\n",
        "\n"
      ],
      "metadata": {
        "id": "SpzdoA34gvg4"
      }
    },
    {
      "cell_type": "code",
      "source": [
        "graph1={\n",
        "'A' : ['C','D','G'],\n",
        "'B' : ['A'],\n",
        "'C' : ['A','D','F'],\n",
        "'D' : ['A','C','E','G','H'],\n",
        "'E' : ['D','F','H'],\n",
        "'F' : ['C','E'],\n",
        "'G' : ['A','D','H'],\n",
        "'H' : ['D','E','G']}\n",
        "print(graph1)"
      ],
      "metadata": {
        "colab": {
          "base_uri": "https://localhost:8080/"
        },
        "id": "GHaiE5E8myZe",
        "outputId": "0b58f5e8-5f24-471c-b4ff-f3d0529beb58"
      },
      "execution_count": 6,
      "outputs": [
        {
          "output_type": "stream",
          "name": "stdout",
          "text": [
            "{'A': ['C', 'D', 'G'], 'B': ['A'], 'C': ['A', 'D', 'F'], 'D': ['A', 'C', 'E', 'G', 'H'], 'E': ['D', 'F', 'H'], 'F': ['C', 'E'], 'G': ['A', 'D', 'H'], 'H': ['D', 'E', 'G']}\n"
          ]
        }
      ]
    },
    {
      "cell_type": "code",
      "source": [
        "def dfs(graph,node,visited):\n",
        "   if node not in visited:\n",
        "       visited.append(node)\n",
        "       for k in graph[node]:\n",
        "           dfs(graph,k,visited)\n",
        "   return visited\n",
        "\n",
        "visited = dfs(graph1,'B',[])\n",
        "print(visited)"
      ],
      "metadata": {
        "colab": {
          "base_uri": "https://localhost:8080/"
        },
        "id": "ysLrFKMRnCeH",
        "outputId": "abda19d9-2075-4ad6-fae2-e47151d7e68c"
      },
      "execution_count": 7,
      "outputs": [
        {
          "output_type": "stream",
          "name": "stdout",
          "text": [
            "['B', 'A', 'C', 'D', 'E', 'F', 'H', 'G']\n"
          ]
        }
      ]
    },
    {
      "cell_type": "markdown",
      "source": [
        "part-03:Implement A *"
      ],
      "metadata": {
        "id": "ZhUXVYLOnNlt"
      }
    },
    {
      "cell_type": "code",
      "source": [
        "from copy import deepcopy\n",
        "import numpy as np\n",
        "import time\n",
        "\n",
        "def bestsolution(state):\n",
        "    bestsol = np.array([], int).reshape(-1, 9)\n",
        "    count = len(state) - 1\n",
        "    while count != -1:\n",
        "        bestsol = np.insert(bestsol, 0, state[count]['puzzle'], 0)\n",
        "        count = (state[count]['parent'])\n",
        "    return bestsol.reshape(-1, 3, 3)\n",
        "\n",
        "\n",
        "# checks for the uniqueness of the iteration(it).\n",
        "def all(checkarray):\n",
        "    set=[]\n",
        "    for it in set:\n",
        "        for checkarray in it:\n",
        "            return 1\n",
        "        else:\n",
        "            return 0\n",
        "\n",
        "\n",
        "# number of misplaced tiles\n",
        "def misplaced_tiles(puzzle,goal):\n",
        "    mscost = np.sum(puzzle != goal) - 1\n",
        "    return mscost if mscost > 0 else 0\n",
        "\n",
        "\n",
        "def coordinates(puzzle):\n",
        "    pos = np.array(range(9))\n",
        "    for p, q in enumerate(puzzle):\n",
        "        pos[q] = p\n",
        "    return pos\n",
        "\n",
        "\n",
        "# start of 8 puzzle evaluvation, using Misplaced tiles heuristics\n",
        "def evaluvate_misplaced(puzzle, goal):\n",
        "    steps = np.array([('up', [0, 1, 2], -3),('down', [6, 7, 8],  3),('left', [0, 3, 6], -1),('right', [2, 5, 8],  1)],\n",
        "                dtype =  [('move',  str, 1),('position', list),('head', int)])\n",
        "\n",
        "    dtstate = [('puzzle',  list),('parent', int),('gn',  int),('hn',  int)]\n",
        "\n",
        "    costg = coordinates(goal)\n",
        "\n",
        "    # initializing the parent, gn and hn, where hn is misplaced_tiles  function call\n",
        "    parent = -1\n",
        "    gn = 0\n",
        "    hn = misplaced_tiles(coordinates(puzzle), costg)\n",
        "    state = np.array([(puzzle, parent, gn, hn)], dtstate)\n",
        "\n",
        "   #priority queues with position as keys and fn as value.\n",
        "    dtpriority = [('position', int),('fn', int)]\n",
        "\n",
        "    priority = np.array([(0, hn)], dtpriority)\n",
        "\n",
        "    while 1:\n",
        "        priority = np.sort(priority, kind='mergesort', order=['fn', 'position'])\n",
        "        position, fn = priority[0]\n",
        "        # sort priority queue using merge sort,the first element is picked for exploring.\n",
        "        priority = np.delete(priority, 0, 0)\n",
        "        puzzle, parent, gn, hn = state[position]\n",
        "        puzzle = np.array(puzzle)\n",
        "\n",
        "        blank = int(np.where(puzzle == 0)[0])\n",
        "\n",
        "        gn = gn + 1\n",
        "        c = 1\n",
        "        start_time = time.time()\n",
        "        for s in steps:\n",
        "            c = c + 1\n",
        "            if blank not in s['position']:\n",
        "                openstates = deepcopy(puzzle)\n",
        "                openstates[blank], openstates[blank + s['head']] = openstates[blank + s['head']], openstates[blank]\n",
        "\n",
        "                if ~(np.all(list(state['puzzle']) == openstates, 1)).any():\n",
        "                    end_time = time.time()\n",
        "                    if (( end_time - start_time ) > 2):\n",
        "                        print(\" The 8 puzzle is unsolvable \\n\")\n",
        "                        break\n",
        "\n",
        "                    hn = misplaced_tiles(coordinates(openstates), costg)\n",
        "                    # generate and add new state in the list\n",
        "                    q = np.array([(openstates, position, gn, hn)], dtstate)\n",
        "                    state = np.append(state, q, 0)\n",
        "                    # f(n) is the sum of cost to reach node\n",
        "                    fn = gn + hn\n",
        "\n",
        "                    q = np.array([(len(state) - 1, fn)], dtpriority)\n",
        "                    priority = np.append(priority, q, 0)\n",
        "\n",
        "                    if np.array_equal(openstates, goal):\n",
        "                        print(' The 8 puzzle is solvable \\n')\n",
        "                        return state, len(priority)\n",
        "\n",
        "    return state, len(priority)\n",
        "\n",
        "\n",
        "# initial state\n",
        "puzzle = []\n",
        "\n",
        "puzzle.append(2)\n",
        "puzzle.append(8)\n",
        "puzzle.append(3)\n",
        "puzzle.append(7)\n",
        "puzzle.append(1)\n",
        "puzzle.append(4)\n",
        "puzzle.append(0)\n",
        "puzzle.append(6)\n",
        "puzzle.append(5)\n",
        "\n",
        "#goal state\n",
        "goal = []\n",
        "\n",
        "goal.append(1)\n",
        "goal.append(2)\n",
        "goal.append(3)\n",
        "goal.append(8)\n",
        "goal.append(0)\n",
        "goal.append(4)\n",
        "goal.append(7)\n",
        "goal.append(6)\n",
        "goal.append(5)\n",
        "\n",
        "\n",
        "state, visited = evaluvate_misplaced(puzzle, goal)\n",
        "bestpath = bestsolution(state)\n",
        "print(str(bestpath).replace('[', ' ').replace(']', ''))\n",
        "totalmoves = len(bestpath) - 1\n",
        "print('\\nSteps to reach goal:',totalmoves)\n",
        "visit = len(state) - visited\n",
        "print('Total nodes visited: ',visit, \"\\n\")"
      ],
      "metadata": {
        "colab": {
          "base_uri": "https://localhost:8080/"
        },
        "id": "YU2Q1RkTx6VD",
        "outputId": "2c06ceeb-432b-4d5f-9050-f2a9431bea67"
      },
      "execution_count": 12,
      "outputs": [
        {
          "output_type": "stream",
          "name": "stdout",
          "text": [
            " The 8 puzzle is solvable \n",
            "\n",
            "   2 8 3\n",
            "   7 1 4\n",
            "   0 6 5\n",
            "\n",
            "   2 8 3\n",
            "   0 1 4\n",
            "   7 6 5\n",
            "\n",
            "   2 8 3\n",
            "   1 0 4\n",
            "   7 6 5\n",
            "\n",
            "   2 0 3\n",
            "   1 8 4\n",
            "   7 6 5\n",
            "\n",
            "   0 2 3\n",
            "   1 8 4\n",
            "   7 6 5\n",
            "\n",
            "   1 2 3\n",
            "   0 8 4\n",
            "   7 6 5\n",
            "\n",
            "   1 2 3\n",
            "   8 0 4\n",
            "   7 6 5\n",
            "\n",
            "Steps to reach goal: 6\n",
            "Total nodes visited:  11 \n",
            "\n"
          ]
        },
        {
          "output_type": "stream",
          "name": "stderr",
          "text": [
            "<ipython-input-12-f1708b19b664>:65: DeprecationWarning: Conversion of an array with ndim > 0 to a scalar is deprecated, and will error in future. Ensure you extract a single element from your array before performing this operation. (Deprecated NumPy 1.25.)\n",
            "  blank = int(np.where(puzzle == 0)[0])\n"
          ]
        }
      ]
    },
    {
      "cell_type": "code",
      "source": [
        "from copy import deepcopy\n",
        "import numpy as np\n",
        "import time\n",
        "\n",
        "def bestsolution(state):\n",
        "    bestsol = np.array([], int).reshape(-1, 9)\n",
        "    count = len(state) - 1\n",
        "    while count != -1:\n",
        "        bestsol = np.insert(bestsol, 0, state[count]['puzzle'], 0)\n",
        "        count = (state[count]['parent'])\n",
        "    return bestsol.reshape(-1, 3, 3)\n",
        "\n",
        "\n",
        "# checks for the uniqueness of the iteration(it).\n",
        "def all(checkarray):\n",
        "    set=[]\n",
        "    for it in set:\n",
        "        for checkarray in it:\n",
        "            return 1\n",
        "        else:\n",
        "            return 0\n",
        "\n",
        "\n",
        "# number of misplaced tiles\n",
        "def misplaced_tiles(puzzle,goal):\n",
        "    mscost = np.sum(puzzle != goal) - 1\n",
        "    return mscost if mscost > 0 else 0\n",
        "\n",
        "\n",
        "def coordinates(puzzle):\n",
        "    pos = np.array(range(9))\n",
        "    for p, q in enumerate(puzzle):\n",
        "        pos[q] = p\n",
        "    return pos\n",
        "\n",
        "\n",
        "# start of 8 puzzle evaluvation, using Misplaced tiles heuristics\n",
        "def evaluvate_misplaced(puzzle, goal):\n",
        "    steps = np.array([('up', [0, 1, 2], -3),('down', [6, 7, 8],  3),('left', [0, 3, 6], -1),('right', [2, 5, 8],  1)],\n",
        "                dtype =  [('move',  str, 1),('position', list),('head', int)])\n",
        "\n",
        "    dtstate = [('puzzle',  list),('parent', int),('gn',  int),('hn',  int)]\n",
        "\n",
        "    costg = coordinates(goal)\n",
        "\n",
        "    # initializing the parent, gn and hn, where hn is misplaced_tiles  function call\n",
        "    parent = -1\n",
        "    gn = 0\n",
        "    hn = misplaced_tiles(coordinates(puzzle), costg)\n",
        "    state = np.array([(puzzle, parent, gn, hn)], dtstate)\n",
        "\n",
        "   #priority queues with position as keys and fn as value.\n",
        "    dtpriority = [('position', int),('fn', int)]\n",
        "\n",
        "    priority = np.array([(0, hn)], dtpriority)\n",
        "\n",
        "    while 1:\n",
        "        priority = np.sort(priority, kind='mergesort', order=['fn', 'position'])\n",
        "        position, fn = priority[0]\n",
        "        # sort priority queue using merge sort,the first element is picked for exploring.\n",
        "        priority = np.delete(priority, 0, 0)\n",
        "        puzzle, parent, gn, hn = state[position]\n",
        "        puzzle = np.array(puzzle)\n",
        "\n",
        "        blank = int(np.where(puzzle == 0)[0])\n",
        "\n",
        "        gn = gn + 1\n",
        "        c = 1\n",
        "        start_time = time.time()\n",
        "        for s in steps:\n",
        "            c = c + 1\n",
        "            if blank not in s['position']:\n",
        "                openstates = deepcopy(puzzle)\n",
        "                openstates[blank], openstates[blank + s['head']] = openstates[blank + s['head']], openstates[blank]\n",
        "\n",
        "                if ~(np.all(list(state['puzzle']) == openstates, 1)).any():\n",
        "                    end_time = time.time()\n",
        "                    if (( end_time - start_time ) > 2):\n",
        "                        print(\" The 8 puzzle is unsolvable \\n\")\n",
        "                        break\n",
        "\n",
        "                    hn = misplaced_tiles(coordinates(openstates), costg)\n",
        "                    # generate and add new state in the list\n",
        "                    q = np.array([(openstates, position, gn, hn)], dtstate)\n",
        "                    state = np.append(state, q, 0)\n",
        "                    # f(n) is the sum of cost to reach node\n",
        "                    fn = gn + hn\n",
        "\n",
        "                    q = np.array([(len(state) - 1, fn)], dtpriority)\n",
        "                    priority = np.append(priority, q, 0)\n",
        "\n",
        "                    if np.array_equal(openstates, goal):\n",
        "                        print(' The 8 puzzle is solvable \\n')\n",
        "                        return state, len(priority)\n",
        "\n",
        "    return state, len(priority)\n",
        "\n",
        "\n",
        "# initial state\n",
        "puzzle = []\n",
        "\n",
        "puzzle.append(2)\n",
        "puzzle.append(8)\n",
        "puzzle.append(3)\n",
        "puzzle.append(7)\n",
        "puzzle.append(1)\n",
        "puzzle.append(4)\n",
        "puzzle.append(0)\n",
        "puzzle.append(6)\n",
        "puzzle.append(5)\n",
        "\n",
        "#goal state\n",
        "goal = []\n",
        "\n",
        "goal.append(1)\n",
        "goal.append(2)\n",
        "goal.append(3)\n",
        "goal.append(8)\n",
        "goal.append(0)\n",
        "goal.append(4)\n",
        "goal.append(7)\n",
        "goal.append(6)\n",
        "goal.append(5)\n",
        "\n",
        "\n",
        "state, visited = evaluvate_misplaced(puzzle, goal)\n",
        "bestpath = bestsolution(state)\n",
        "print(str(bestpath).replace('[', ' ').replace(']', ''))\n",
        "totalmoves = len(bestpath) - 1\n",
        "print('\\nSteps to reach goal:',totalmoves)\n",
        "visit = len(state) - visited\n",
        "print('Total nodes visited: ',visit, \"\\n\")"
      ],
      "metadata": {
        "id": "vCC8EJcDIO50",
        "outputId": "48a5d407-de3e-4101-92fc-2ab758fc318c",
        "colab": {
          "base_uri": "https://localhost:8080/"
        }
      },
      "execution_count": 9,
      "outputs": [
        {
          "output_type": "stream",
          "name": "stdout",
          "text": [
            " The 8 puzzle is solvable \n",
            "\n",
            "   2 8 3\n",
            "   7 1 4\n",
            "   0 6 5\n",
            "\n",
            "   2 8 3\n",
            "   0 1 4\n",
            "   7 6 5\n",
            "\n",
            "   2 8 3\n",
            "   1 0 4\n",
            "   7 6 5\n",
            "\n",
            "   2 0 3\n",
            "   1 8 4\n",
            "   7 6 5\n",
            "\n",
            "   0 2 3\n",
            "   1 8 4\n",
            "   7 6 5\n",
            "\n",
            "   1 2 3\n",
            "   0 8 4\n",
            "   7 6 5\n",
            "\n",
            "   1 2 3\n",
            "   8 0 4\n",
            "   7 6 5\n",
            "\n",
            "Steps to reach goal: 6\n",
            "Total nodes visited:  11 \n",
            "\n"
          ]
        },
        {
          "output_type": "stream",
          "name": "stderr",
          "text": [
            "<ipython-input-9-f1708b19b664>:65: DeprecationWarning: Conversion of an array with ndim > 0 to a scalar is deprecated, and will error in future. Ensure you extract a single element from your array before performing this operation. (Deprecated NumPy 1.25.)\n",
            "  blank = int(np.where(puzzle == 0)[0])\n"
          ]
        }
      ]
    }
  ]
}